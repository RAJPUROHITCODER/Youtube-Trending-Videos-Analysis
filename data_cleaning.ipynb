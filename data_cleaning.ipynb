{
 "cells": [
  {
   "cell_type": "code",
   "execution_count": 1,
   "id": "0ff907d8-0e3e-42f2-92ed-f141f39b24af",
   "metadata": {},
   "outputs": [],
   "source": [
    "import pandas as pd\n",
    "import numpy as np\n",
    "from datetime import datetime,timezone"
   ]
  },
  {
   "cell_type": "code",
   "execution_count": 38,
   "id": "5cd84b0e-09d2-42f6-b86e-024aebb2103a",
   "metadata": {},
   "outputs": [],
   "source": [
    "df=pd.read_excel(\"youtube_Trending_videos.xlsx\")"
   ]
  },
  {
   "cell_type": "code",
   "execution_count": 39,
   "id": "48a7a027-5401-44bd-9a07-13590583e3e7",
   "metadata": {},
   "outputs": [
    {
     "data": {
      "text/html": [
       "<div>\n",
       "<style scoped>\n",
       "    .dataframe tbody tr th:only-of-type {\n",
       "        vertical-align: middle;\n",
       "    }\n",
       "\n",
       "    .dataframe tbody tr th {\n",
       "        vertical-align: top;\n",
       "    }\n",
       "\n",
       "    .dataframe thead th {\n",
       "        text-align: right;\n",
       "    }\n",
       "</style>\n",
       "<table border=\"1\" class=\"dataframe\">\n",
       "  <thead>\n",
       "    <tr style=\"text-align: right;\">\n",
       "      <th></th>\n",
       "      <th>id</th>\n",
       "      <th>Date-time</th>\n",
       "      <th>duration</th>\n",
       "      <th>channel_id</th>\n",
       "      <th>channel_title</th>\n",
       "      <th>title</th>\n",
       "      <th>category_id</th>\n",
       "      <th>live_broad_cast</th>\n",
       "      <th>Audio</th>\n",
       "      <th>view</th>\n",
       "      <th>like</th>\n",
       "      <th>commment</th>\n",
       "      <th>tag</th>\n",
       "      <th>country</th>\n",
       "      <th>country_iso</th>\n",
       "      <th>link</th>\n",
       "    </tr>\n",
       "  </thead>\n",
       "  <tbody>\n",
       "    <tr>\n",
       "      <th>0</th>\n",
       "      <td>EdxguQAXeoU</td>\n",
       "      <td>2025-06-11T04:40:11Z</td>\n",
       "      <td>PT3M36S</td>\n",
       "      <td>UC9ChdqQRCaZmTCwSJ49tcbw</td>\n",
       "      <td>Sidhu Moose Wala</td>\n",
       "      <td>TAKE NOTES ( Official Audio) Sidhu Moose Wala ...</td>\n",
       "      <td>Music</td>\n",
       "      <td>none</td>\n",
       "      <td>English</td>\n",
       "      <td>7779282.0</td>\n",
       "      <td>1041330.0</td>\n",
       "      <td>156844.0</td>\n",
       "      <td>sidhu moosewala</td>\n",
       "      <td>United Arab Emirates</td>\n",
       "      <td>AE</td>\n",
       "      <td>https://www.youtube.com/watch?v=EdxguQAXeoU</td>\n",
       "    </tr>\n",
       "    <tr>\n",
       "      <th>1</th>\n",
       "      <td>uKAPYLvDJFQ</td>\n",
       "      <td>2025-06-11T04:30:23Z</td>\n",
       "      <td>PT2M10S</td>\n",
       "      <td>UC9ChdqQRCaZmTCwSJ49tcbw</td>\n",
       "      <td>Sidhu Moose Wala</td>\n",
       "      <td>0008 (Official Audio) Sidhu Moose Wala  |  Lat...</td>\n",
       "      <td>Music</td>\n",
       "      <td>none</td>\n",
       "      <td>English</td>\n",
       "      <td>6081458.0</td>\n",
       "      <td>811553.0</td>\n",
       "      <td>113710.0</td>\n",
       "      <td>sidhu moosewala</td>\n",
       "      <td>United Arab Emirates</td>\n",
       "      <td>AE</td>\n",
       "      <td>https://www.youtube.com/watch?v=uKAPYLvDJFQ</td>\n",
       "    </tr>\n",
       "  </tbody>\n",
       "</table>\n",
       "</div>"
      ],
      "text/plain": [
       "            id             Date-time duration                channel_id  \\\n",
       "0  EdxguQAXeoU  2025-06-11T04:40:11Z  PT3M36S  UC9ChdqQRCaZmTCwSJ49tcbw   \n",
       "1  uKAPYLvDJFQ  2025-06-11T04:30:23Z  PT2M10S  UC9ChdqQRCaZmTCwSJ49tcbw   \n",
       "\n",
       "      channel_title                                              title  \\\n",
       "0  Sidhu Moose Wala  TAKE NOTES ( Official Audio) Sidhu Moose Wala ...   \n",
       "1  Sidhu Moose Wala  0008 (Official Audio) Sidhu Moose Wala  |  Lat...   \n",
       "\n",
       "  category_id live_broad_cast    Audio       view       like  commment  \\\n",
       "0       Music            none  English  7779282.0  1041330.0  156844.0   \n",
       "1       Music            none  English  6081458.0   811553.0  113710.0   \n",
       "\n",
       "               tag               country country_iso  \\\n",
       "0  sidhu moosewala  United Arab Emirates          AE   \n",
       "1  sidhu moosewala  United Arab Emirates          AE   \n",
       "\n",
       "                                          link  \n",
       "0  https://www.youtube.com/watch?v=EdxguQAXeoU  \n",
       "1  https://www.youtube.com/watch?v=uKAPYLvDJFQ  "
      ]
     },
     "execution_count": 39,
     "metadata": {},
     "output_type": "execute_result"
    }
   ],
   "source": [
    "df.head(2)"
   ]
  },
  {
   "cell_type": "code",
   "execution_count": 40,
   "id": "e16f5d5f-2eee-4892-b625-5d9f83f665a6",
   "metadata": {},
   "outputs": [
    {
     "data": {
      "text/plain": [
       "(5500, 16)"
      ]
     },
     "execution_count": 40,
     "metadata": {},
     "output_type": "execute_result"
    }
   ],
   "source": [
    "df.shape"
   ]
  },
  {
   "cell_type": "code",
   "execution_count": 41,
   "id": "4ea244d2-36c5-43f2-bdca-ce5412d3710f",
   "metadata": {},
   "outputs": [
    {
     "name": "stdout",
     "output_type": "stream",
     "text": [
      "<class 'pandas.core.frame.DataFrame'>\n",
      "RangeIndex: 5500 entries, 0 to 5499\n",
      "Data columns (total 16 columns):\n",
      " #   Column           Non-Null Count  Dtype  \n",
      "---  ------           --------------  -----  \n",
      " 0   id               5500 non-null   object \n",
      " 1   Date-time        5500 non-null   object \n",
      " 2   duration         5500 non-null   object \n",
      " 3   channel_id       5500 non-null   object \n",
      " 4   channel_title    5500 non-null   object \n",
      " 5   title            5500 non-null   object \n",
      " 6   category_id      5500 non-null   object \n",
      " 7   live_broad_cast  5500 non-null   object \n",
      " 8   Audio            3390 non-null   object \n",
      " 9   view             5499 non-null   float64\n",
      " 10  like             5422 non-null   float64\n",
      " 11  commment         5447 non-null   float64\n",
      " 12  tag              3499 non-null   object \n",
      " 13  country          5500 non-null   object \n",
      " 14  country_iso      5500 non-null   object \n",
      " 15  link             5500 non-null   object \n",
      "dtypes: float64(3), object(13)\n",
      "memory usage: 687.6+ KB\n"
     ]
    }
   ],
   "source": [
    "df.info()"
   ]
  },
  {
   "cell_type": "code",
   "execution_count": 42,
   "id": "ef0b07f5-9d4b-4691-9d49-d38197abcf0f",
   "metadata": {},
   "outputs": [],
   "source": [
    "df.rename(columns={\"category_id\":\"category\",\"Audio\":\"language\",\"commment\":\"comments\"},inplace=True)"
   ]
  },
  {
   "cell_type": "code",
   "execution_count": 43,
   "id": "6e95469e-6cb9-4a21-a5df-1ee7f6e62f3c",
   "metadata": {},
   "outputs": [
    {
     "name": "stderr",
     "output_type": "stream",
     "text": [
      "C:\\Users\\dell\\AppData\\Local\\Temp\\ipykernel_16388\\750579828.py:2: FutureWarning: A value is trying to be set on a copy of a DataFrame or Series through chained assignment using an inplace method.\n",
      "The behavior will change in pandas 3.0. This inplace method will never work because the intermediate object on which we are setting values always behaves as a copy.\n",
      "\n",
      "For example, when doing 'df[col].method(value, inplace=True)', try using 'df.method({col: value}, inplace=True)' or df[col] = df[col].method(value) instead, to perform the operation inplace on the original object.\n",
      "\n",
      "\n",
      "  df[\"language\"].fillna(\"Unknown\",inplace=True)\n"
     ]
    }
   ],
   "source": [
    "# which category has highest missing value in language\n",
    "df[\"language\"].fillna(\"Unknown\",inplace=True)"
   ]
  },
  {
   "cell_type": "code",
   "execution_count": 44,
   "id": "f367f8e0-1c73-44b3-b05b-4ee7e53f538c",
   "metadata": {},
   "outputs": [
    {
     "name": "stderr",
     "output_type": "stream",
     "text": [
      "C:\\Users\\dell\\AppData\\Local\\Temp\\ipykernel_16388\\3380810205.py:2: SettingWithCopyWarning: \n",
      "A value is trying to be set on a copy of a slice from a DataFrame.\n",
      "Try using .loc[row_indexer,col_indexer] = value instead\n",
      "\n",
      "See the caveats in the documentation: https://pandas.pydata.org/pandas-docs/stable/user_guide/indexing.html#returning-a-view-versus-a-copy\n",
      "  df1[\"counts\"]=1\n"
     ]
    },
    {
     "data": {
      "text/plain": [
       "(2110, 17)"
      ]
     },
     "execution_count": 44,
     "metadata": {},
     "output_type": "execute_result"
    }
   ],
   "source": [
    "df1=df[df[\"language\"]==\"Unknown\"]\n",
    "df1[\"counts\"]=1\n",
    "df1.shape"
   ]
  },
  {
   "cell_type": "code",
   "execution_count": 45,
   "id": "7b240726-46fc-4ced-b23f-1eb243774671",
   "metadata": {},
   "outputs": [
    {
     "data": {
      "text/plain": [
       "category              language\n",
       "Autos & Vehicles      Unknown       8\n",
       "Comedy                Unknown     132\n",
       "Education             Unknown      11\n",
       "Entertainment         Unknown     411\n",
       "Film & Animation      Unknown     100\n",
       "Gaming                Unknown     192\n",
       "Howto & Style         Unknown      54\n",
       "Music                 Unknown     223\n",
       "News & Politics       Unknown      39\n",
       "People & Blogs        Unknown     683\n",
       "Science & Technology  Unknown      25\n",
       "Sports                Unknown     210\n",
       "Travel & Events       Unknown      22\n",
       "Name: counts, dtype: int64"
      ]
     },
     "execution_count": 45,
     "metadata": {},
     "output_type": "execute_result"
    }
   ],
   "source": [
    "df1.groupby([\"category\",\"language\"])[\"counts\"].sum()\n"
   ]
  },
  {
   "cell_type": "code",
   "execution_count": 46,
   "id": "f785f744-eb2e-4da1-86cd-a5c9d5566cf6",
   "metadata": {},
   "outputs": [],
   "source": [
    "df[\"Date-time\"]=pd.to_datetime(df[\"Date-time\"],utc=True)\n",
    "df[\"totaldays_since_uploaded\"]=round((datetime.now(timezone.utc)-df[\"Date-time\"])/pd.Timedelta(days=1),2)"
   ]
  },
  {
   "cell_type": "code",
   "execution_count": 11,
   "id": "a4e03b9d-6cdb-4342-ad27-96df1da8b589",
   "metadata": {},
   "outputs": [
    {
     "name": "stdout",
     "output_type": "stream",
     "text": [
      "Defaulting to user installation because normal site-packages is not writeableNote: you may need to restart the kernel to use updated packages.\n",
      "\n",
      "Requirement already satisfied: pycountry in c:\\users\\dell\\appdata\\roaming\\python\\python311\\site-packages (24.6.1)\n",
      "Requirement already satisfied: pytz in c:\\users\\dell\\appdata\\roaming\\python\\python311\\site-packages (2023.3.post1)\n"
     ]
    },
    {
     "name": "stderr",
     "output_type": "stream",
     "text": [
      "\n",
      "[notice] A new release of pip is available: 23.3.1 -> 25.1.1\n",
      "[notice] To update, run: python.exe -m pip install --upgrade pip\n"
     ]
    }
   ],
   "source": [
    "pip install pycountry pytz"
   ]
  },
  {
   "cell_type": "code",
   "execution_count": 47,
   "id": "6a8d6846-d9c6-4ca7-8d8c-62e42a46757c",
   "metadata": {},
   "outputs": [],
   "source": [
    "from pytz import country_timezones"
   ]
  },
  {
   "cell_type": "code",
   "execution_count": 48,
   "id": "b65b7494-06f3-4be9-9f1c-10d020dc0a5a",
   "metadata": {},
   "outputs": [],
   "source": [
    "country_timezones_map={code:timezones[0] for code , timezones in country_timezones.items() if timezones}\n",
    "df[\"time_zone\"]=df[\"country_iso\"].map(country_timezones_map)\n",
    "def convert_to_local_timezone(data):\n",
    "    if data[\"time_zone\"]:\n",
    "        return data[\"Date-time\"].tz_convert(data[\"time_zone\"])\n",
    "    return data[\"time_zone\"]\n",
    "df[\"local_datetime\"]=df.apply(convert_to_local_timezone,axis=1)"
   ]
  },
  {
   "cell_type": "code",
   "execution_count": 49,
   "id": "eb621e77-1625-4bf5-84c9-79075cfd18dc",
   "metadata": {},
   "outputs": [],
   "source": [
    "df[\"local_date\"]=df[\"local_datetime\"].apply(lambda x:x.date())\n",
    "df[\"local_time\"]=df[\"local_datetime\"].apply(lambda x:x.time())"
   ]
  },
  {
   "cell_type": "code",
   "execution_count": 57,
   "id": "6f21167f-8053-42b4-97e8-9c6c3293c8c3",
   "metadata": {},
   "outputs": [
    {
     "name": "stdout",
     "output_type": "stream",
     "text": [
      "Defaulting to user installation because normal site-packages is not writeable\n",
      "Requirement already satisfied: isodate in c:\\users\\dell\\appdata\\roaming\\python\\python311\\site-packages (0.7.2)\n",
      "Note: you may need to restart the kernel to use updated packages.\n"
     ]
    },
    {
     "name": "stderr",
     "output_type": "stream",
     "text": [
      "\n",
      "[notice] A new release of pip is available: 23.3.1 -> 25.1.1\n",
      "[notice] To update, run: python.exe -m pip install --upgrade pip\n"
     ]
    }
   ],
   "source": [
    "pip install isodate"
   ]
  },
  {
   "cell_type": "code",
   "execution_count": 50,
   "id": "40cf23d2-4f6f-4a31-9993-223dba36302c",
   "metadata": {},
   "outputs": [],
   "source": [
    "from isodate import parse_duration"
   ]
  },
  {
   "cell_type": "code",
   "execution_count": 51,
   "id": "36b887aa-7164-4b7d-8ff0-30eee9ec2466",
   "metadata": {},
   "outputs": [],
   "source": [
    "df[\"duration\"]=df[\"duration\"].apply(parse_duration)"
   ]
  },
  {
   "cell_type": "code",
   "execution_count": 52,
   "id": "f697d5bf-1fef-4919-95d2-03f68d4a9800",
   "metadata": {},
   "outputs": [],
   "source": [
    "df[\"duration\"]=df[\"duration\"].apply(lambda x: x.seconds/60)"
   ]
  },
  {
   "cell_type": "code",
   "execution_count": 58,
   "id": "d89d068d-9451-4584-bedb-736509c54fd9",
   "metadata": {},
   "outputs": [],
   "source": [
    "df[\"duration\"]=df[\"duration\"].round(2)"
   ]
  },
  {
   "cell_type": "code",
   "execution_count": null,
   "id": "5dcc88a1-19d0-4495-a98d-e8f3cafa32b0",
   "metadata": {},
   "outputs": [],
   "source": [
    "df[\"utc_date\"]=df[\"Date-time\"].dt.date\n",
    "df[\"utc_time\"]=df[\"Date-time\"].dt.time"
   ]
  },
  {
   "cell_type": "code",
   "execution_count": 54,
   "id": "fe428d52-e7c0-4fb6-a6fa-ab8c3e40a186",
   "metadata": {},
   "outputs": [],
   "source": [
    "df.drop(columns=[\"Date-time\",\"live_broad_cast\",\"tag\",\"country_iso\",\"time_zone\",\"local_datetime\"],inplace=True)"
   ]
  },
  {
   "cell_type": "code",
   "execution_count": 55,
   "id": "973dc79a-8de7-4c57-acd0-c4413f8524b5",
   "metadata": {},
   "outputs": [
    {
     "data": {
      "text/plain": [
       "(5372, 17)"
      ]
     },
     "execution_count": 55,
     "metadata": {},
     "output_type": "execute_result"
    }
   ],
   "source": [
    "df.dropna(subset=[\"like\",\"comments\"],inplace=True)\n",
    "df.shape"
   ]
  },
  {
   "cell_type": "code",
   "execution_count": 60,
   "id": "bb027d4e-1b2c-4f2f-9432-3ff2e564414c",
   "metadata": {},
   "outputs": [
    {
     "name": "stdout",
     "output_type": "stream",
     "text": [
      "<class 'pandas.core.frame.DataFrame'>\n",
      "Index: 5372 entries, 0 to 5499\n",
      "Data columns (total 17 columns):\n",
      " #   Column                    Non-Null Count  Dtype  \n",
      "---  ------                    --------------  -----  \n",
      " 0   id                        5372 non-null   object \n",
      " 1   duration                  5372 non-null   float64\n",
      " 2   channel_id                5372 non-null   object \n",
      " 3   channel_title             5372 non-null   object \n",
      " 4   title                     5372 non-null   object \n",
      " 5   category                  5372 non-null   object \n",
      " 6   language                  5372 non-null   object \n",
      " 7   view                      5372 non-null   float64\n",
      " 8   like                      5372 non-null   float64\n",
      " 9   comments                  5372 non-null   float64\n",
      " 10  country                   5372 non-null   object \n",
      " 11  link                      5372 non-null   object \n",
      " 12  totaldays_since_uploaded  5372 non-null   float64\n",
      " 13  local_date                5372 non-null   object \n",
      " 14  local_time                5372 non-null   object \n",
      " 15  utc_date                  5372 non-null   object \n",
      " 16  utc_time                  5372 non-null   object \n",
      "dtypes: float64(5), object(12)\n",
      "memory usage: 755.4+ KB\n"
     ]
    }
   ],
   "source": [
    "df.info()"
   ]
  },
  {
   "cell_type": "code",
   "execution_count": 61,
   "id": "20cec4c9-04a4-40bc-affb-adf0e0b51b4e",
   "metadata": {},
   "outputs": [
    {
     "data": {
      "text/html": [
       "<div>\n",
       "<style scoped>\n",
       "    .dataframe tbody tr th:only-of-type {\n",
       "        vertical-align: middle;\n",
       "    }\n",
       "\n",
       "    .dataframe tbody tr th {\n",
       "        vertical-align: top;\n",
       "    }\n",
       "\n",
       "    .dataframe thead th {\n",
       "        text-align: right;\n",
       "    }\n",
       "</style>\n",
       "<table border=\"1\" class=\"dataframe\">\n",
       "  <thead>\n",
       "    <tr style=\"text-align: right;\">\n",
       "      <th></th>\n",
       "      <th>id</th>\n",
       "      <th>duration</th>\n",
       "      <th>channel_id</th>\n",
       "      <th>channel_title</th>\n",
       "      <th>title</th>\n",
       "      <th>category</th>\n",
       "      <th>language</th>\n",
       "      <th>view</th>\n",
       "      <th>like</th>\n",
       "      <th>comments</th>\n",
       "      <th>country</th>\n",
       "      <th>link</th>\n",
       "      <th>totaldays_since_uploaded</th>\n",
       "      <th>local_date</th>\n",
       "      <th>local_time</th>\n",
       "      <th>utc_date</th>\n",
       "      <th>utc_time</th>\n",
       "    </tr>\n",
       "  </thead>\n",
       "  <tbody>\n",
       "    <tr>\n",
       "      <th>0</th>\n",
       "      <td>EdxguQAXeoU</td>\n",
       "      <td>3.60</td>\n",
       "      <td>UC9ChdqQRCaZmTCwSJ49tcbw</td>\n",
       "      <td>Sidhu Moose Wala</td>\n",
       "      <td>TAKE NOTES ( Official Audio) Sidhu Moose Wala ...</td>\n",
       "      <td>Music</td>\n",
       "      <td>English</td>\n",
       "      <td>7779282.0</td>\n",
       "      <td>1041330.0</td>\n",
       "      <td>156844.0</td>\n",
       "      <td>United Arab Emirates</td>\n",
       "      <td>https://www.youtube.com/watch?v=EdxguQAXeoU</td>\n",
       "      <td>1.01</td>\n",
       "      <td>2025-06-11</td>\n",
       "      <td>08:40:11</td>\n",
       "      <td>2025-06-11</td>\n",
       "      <td>04:40:11</td>\n",
       "    </tr>\n",
       "    <tr>\n",
       "      <th>1</th>\n",
       "      <td>uKAPYLvDJFQ</td>\n",
       "      <td>2.17</td>\n",
       "      <td>UC9ChdqQRCaZmTCwSJ49tcbw</td>\n",
       "      <td>Sidhu Moose Wala</td>\n",
       "      <td>0008 (Official Audio) Sidhu Moose Wala  |  Lat...</td>\n",
       "      <td>Music</td>\n",
       "      <td>English</td>\n",
       "      <td>6081458.0</td>\n",
       "      <td>811553.0</td>\n",
       "      <td>113710.0</td>\n",
       "      <td>United Arab Emirates</td>\n",
       "      <td>https://www.youtube.com/watch?v=uKAPYLvDJFQ</td>\n",
       "      <td>1.02</td>\n",
       "      <td>2025-06-11</td>\n",
       "      <td>08:30:23</td>\n",
       "      <td>2025-06-11</td>\n",
       "      <td>04:30:23</td>\n",
       "    </tr>\n",
       "  </tbody>\n",
       "</table>\n",
       "</div>"
      ],
      "text/plain": [
       "            id  duration                channel_id     channel_title  \\\n",
       "0  EdxguQAXeoU      3.60  UC9ChdqQRCaZmTCwSJ49tcbw  Sidhu Moose Wala   \n",
       "1  uKAPYLvDJFQ      2.17  UC9ChdqQRCaZmTCwSJ49tcbw  Sidhu Moose Wala   \n",
       "\n",
       "                                               title category language  \\\n",
       "0  TAKE NOTES ( Official Audio) Sidhu Moose Wala ...    Music  English   \n",
       "1  0008 (Official Audio) Sidhu Moose Wala  |  Lat...    Music  English   \n",
       "\n",
       "        view       like  comments               country  \\\n",
       "0  7779282.0  1041330.0  156844.0  United Arab Emirates   \n",
       "1  6081458.0   811553.0  113710.0  United Arab Emirates   \n",
       "\n",
       "                                          link  totaldays_since_uploaded  \\\n",
       "0  https://www.youtube.com/watch?v=EdxguQAXeoU                      1.01   \n",
       "1  https://www.youtube.com/watch?v=uKAPYLvDJFQ                      1.02   \n",
       "\n",
       "   local_date local_time    utc_date  utc_time  \n",
       "0  2025-06-11   08:40:11  2025-06-11  04:40:11  \n",
       "1  2025-06-11   08:30:23  2025-06-11  04:30:23  "
      ]
     },
     "execution_count": 61,
     "metadata": {},
     "output_type": "execute_result"
    }
   ],
   "source": [
    "df.head(2)"
   ]
  },
  {
   "cell_type": "code",
   "execution_count": 23,
   "id": "6331ff8b-c553-4de4-9726-0634d91f6e2e",
   "metadata": {},
   "outputs": [
    {
     "data": {
      "text/html": [
       "<div>\n",
       "<style scoped>\n",
       "    .dataframe tbody tr th:only-of-type {\n",
       "        vertical-align: middle;\n",
       "    }\n",
       "\n",
       "    .dataframe tbody tr th {\n",
       "        vertical-align: top;\n",
       "    }\n",
       "\n",
       "    .dataframe thead th {\n",
       "        text-align: right;\n",
       "    }\n",
       "</style>\n",
       "<table border=\"1\" class=\"dataframe\">\n",
       "  <thead>\n",
       "    <tr style=\"text-align: right;\">\n",
       "      <th></th>\n",
       "      <th>duration</th>\n",
       "      <th>view</th>\n",
       "      <th>like</th>\n",
       "      <th>comments</th>\n",
       "      <th>totaldays_since_uploaded</th>\n",
       "    </tr>\n",
       "  </thead>\n",
       "  <tbody>\n",
       "    <tr>\n",
       "      <th>count</th>\n",
       "      <td>5372.000000</td>\n",
       "      <td>5.372000e+03</td>\n",
       "      <td>5.372000e+03</td>\n",
       "      <td>5372.000000</td>\n",
       "      <td>5372.000000</td>\n",
       "    </tr>\n",
       "    <tr>\n",
       "      <th>mean</th>\n",
       "      <td>16.540876</td>\n",
       "      <td>1.641253e+07</td>\n",
       "      <td>3.996029e+05</td>\n",
       "      <td>5967.833023</td>\n",
       "      <td>6.971828</td>\n",
       "    </tr>\n",
       "    <tr>\n",
       "      <th>std</th>\n",
       "      <td>44.220853</td>\n",
       "      <td>2.995978e+07</td>\n",
       "      <td>7.383171e+05</td>\n",
       "      <td>19134.419003</td>\n",
       "      <td>5.361060</td>\n",
       "    </tr>\n",
       "    <tr>\n",
       "      <th>min</th>\n",
       "      <td>0.166667</td>\n",
       "      <td>2.657200e+04</td>\n",
       "      <td>1.060000e+02</td>\n",
       "      <td>0.000000</td>\n",
       "      <td>0.304671</td>\n",
       "    </tr>\n",
       "    <tr>\n",
       "      <th>25%</th>\n",
       "      <td>0.500000</td>\n",
       "      <td>6.603230e+05</td>\n",
       "      <td>1.880875e+04</td>\n",
       "      <td>494.000000</td>\n",
       "      <td>2.727961</td>\n",
       "    </tr>\n",
       "    <tr>\n",
       "      <th>50%</th>\n",
       "      <td>2.533333</td>\n",
       "      <td>2.909099e+06</td>\n",
       "      <td>9.269700e+04</td>\n",
       "      <td>1366.500000</td>\n",
       "      <td>5.886094</td>\n",
       "    </tr>\n",
       "    <tr>\n",
       "      <th>75%</th>\n",
       "      <td>15.633333</td>\n",
       "      <td>1.841674e+07</td>\n",
       "      <td>4.434440e+05</td>\n",
       "      <td>3656.000000</td>\n",
       "      <td>9.687480</td>\n",
       "    </tr>\n",
       "    <tr>\n",
       "      <th>max</th>\n",
       "      <td>714.966667</td>\n",
       "      <td>2.329878e+08</td>\n",
       "      <td>6.085883e+06</td>\n",
       "      <td>496876.000000</td>\n",
       "      <td>36.626349</td>\n",
       "    </tr>\n",
       "  </tbody>\n",
       "</table>\n",
       "</div>"
      ],
      "text/plain": [
       "          duration          view          like       comments  \\\n",
       "count  5372.000000  5.372000e+03  5.372000e+03    5372.000000   \n",
       "mean     16.540876  1.641253e+07  3.996029e+05    5967.833023   \n",
       "std      44.220853  2.995978e+07  7.383171e+05   19134.419003   \n",
       "min       0.166667  2.657200e+04  1.060000e+02       0.000000   \n",
       "25%       0.500000  6.603230e+05  1.880875e+04     494.000000   \n",
       "50%       2.533333  2.909099e+06  9.269700e+04    1366.500000   \n",
       "75%      15.633333  1.841674e+07  4.434440e+05    3656.000000   \n",
       "max     714.966667  2.329878e+08  6.085883e+06  496876.000000   \n",
       "\n",
       "       totaldays_since_uploaded  \n",
       "count               5372.000000  \n",
       "mean                   6.971828  \n",
       "std                    5.361060  \n",
       "min                    0.304671  \n",
       "25%                    2.727961  \n",
       "50%                    5.886094  \n",
       "75%                    9.687480  \n",
       "max                   36.626349  "
      ]
     },
     "execution_count": 23,
     "metadata": {},
     "output_type": "execute_result"
    }
   ],
   "source": [
    "df.describe()"
   ]
  },
  {
   "cell_type": "code",
   "execution_count": 62,
   "id": "33943dcd-97fb-425a-bb83-fa3c97f728fd",
   "metadata": {},
   "outputs": [],
   "source": [
    "df.to_csv(\"youtube_trending_videos1.csv\",index=False)"
   ]
  },
  {
   "cell_type": "code",
   "execution_count": 65,
   "id": "f03daaf9-0dfe-4194-b7ca-b51c1e30105b",
   "metadata": {},
   "outputs": [],
   "source": [
    "data=pd.read_csv(\"youtube_trending_videos1.csv\")\n",
    "data.drop_duplicates(subset=\"id\",inplace=True)\n",
    "data.to_csv(\"trending_videos.csv\",index=False)"
   ]
  },
  {
   "cell_type": "code",
   "execution_count": 27,
   "id": "a4e647d2-69ef-4dfa-9e18-baa10155ec02",
   "metadata": {},
   "outputs": [
    {
     "name": "stdout",
     "output_type": "stream",
     "text": [
      "Defaulting to user installation because normal site-packages is not writeable\n",
      "Collecting pymysql\n",
      "  Downloading PyMySQL-1.1.1-py3-none-any.whl.metadata (4.4 kB)\n",
      "Downloading PyMySQL-1.1.1-py3-none-any.whl (44 kB)\n",
      "   ---------------------------------------- 0.0/45.0 kB ? eta -:--:--\n",
      "   ------------------ --------------------- 20.5/45.0 kB 682.7 kB/s eta 0:00:01\n",
      "   ------------------------------------ --- 41.0/45.0 kB 495.5 kB/s eta 0:00:01\n",
      "   ------------------------------------ --- 41.0/45.0 kB 495.5 kB/s eta 0:00:01\n",
      "   ---------------------------------------- 45.0/45.0 kB 222.6 kB/s eta 0:00:00\n",
      "Installing collected packages: pymysql\n",
      "Successfully installed pymysql-1.1.1\n",
      "Note: you may need to restart the kernel to use updated packages.\n"
     ]
    },
    {
     "name": "stderr",
     "output_type": "stream",
     "text": [
      "\n",
      "[notice] A new release of pip is available: 23.3.1 -> 25.1.1\n",
      "[notice] To update, run: python.exe -m pip install --upgrade pip\n"
     ]
    }
   ],
   "source": [
    "pip install pymysql"
   ]
  },
  {
   "cell_type": "code",
   "execution_count": 28,
   "id": "3fb519c3-1191-43fa-8f1a-0c7496879dc4",
   "metadata": {},
   "outputs": [
    {
     "name": "stdout",
     "output_type": "stream",
     "text": [
      "Defaulting to user installation because normal site-packages is not writeable\n",
      "Collecting sqlalchemy\n",
      "  Downloading sqlalchemy-2.0.41-cp311-cp311-win_amd64.whl.metadata (9.8 kB)\n",
      "Collecting greenlet>=1 (from sqlalchemy)\n",
      "  Downloading greenlet-3.2.3-cp311-cp311-win_amd64.whl.metadata (4.2 kB)\n",
      "Requirement already satisfied: typing-extensions>=4.6.0 in c:\\users\\dell\\appdata\\roaming\\python\\python311\\site-packages (from sqlalchemy) (4.12.2)\n",
      "Downloading sqlalchemy-2.0.41-cp311-cp311-win_amd64.whl (2.1 MB)\n",
      "   ---------------------------------------- 0.0/2.1 MB ? eta -:--:--\n",
      "   ---------------------------------------- 0.0/2.1 MB ? eta -:--:--\n",
      "    --------------------------------------- 0.0/2.1 MB 660.6 kB/s eta 0:00:04\n",
      "   - -------------------------------------- 0.1/2.1 MB 871.5 kB/s eta 0:00:03\n",
      "   -- ------------------------------------- 0.1/2.1 MB 804.6 kB/s eta 0:00:03\n",
      "   -- ------------------------------------- 0.1/2.1 MB 853.3 kB/s eta 0:00:03\n",
      "   -- ------------------------------------- 0.1/2.1 MB 853.3 kB/s eta 0:00:03\n",
      "   -- ------------------------------------- 0.1/2.1 MB 853.3 kB/s eta 0:00:03\n",
      "   ----- ---------------------------------- 0.3/2.1 MB 811.7 kB/s eta 0:00:03\n",
      "   ------ --------------------------------- 0.3/2.1 MB 846.5 kB/s eta 0:00:03\n",
      "   ------- -------------------------------- 0.4/2.1 MB 958.4 kB/s eta 0:00:02\n",
      "   -------- ------------------------------- 0.5/2.1 MB 994.6 kB/s eta 0:00:02\n",
      "   --------- ------------------------------ 0.5/2.1 MB 962.6 kB/s eta 0:00:02\n",
      "   ---------- ----------------------------- 0.5/2.1 MB 973.5 kB/s eta 0:00:02\n",
      "   ----------- ---------------------------- 0.6/2.1 MB 958.4 kB/s eta 0:00:02\n",
      "   ----------- ---------------------------- 0.6/2.1 MB 960.0 kB/s eta 0:00:02\n",
      "   ------------ --------------------------- 0.7/2.1 MB 968.9 kB/s eta 0:00:02\n",
      "   ------------- -------------------------- 0.7/2.1 MB 955.7 kB/s eta 0:00:02\n",
      "   -------------- ------------------------- 0.7/2.1 MB 925.1 kB/s eta 0:00:02\n",
      "   -------------- ------------------------- 0.8/2.1 MB 910.0 kB/s eta 0:00:02\n",
      "   --------------- ------------------------ 0.8/2.1 MB 897.4 kB/s eta 0:00:02\n",
      "   ---------------- ----------------------- 0.9/2.1 MB 939.9 kB/s eta 0:00:02\n",
      "   ----------------- ---------------------- 0.9/2.1 MB 947.0 kB/s eta 0:00:02\n",
      "   ------------------- -------------------- 1.0/2.1 MB 973.3 kB/s eta 0:00:02\n",
      "   ------------------- -------------------- 1.0/2.1 MB 959.4 kB/s eta 0:00:02\n",
      "   -------------------- ------------------- 1.1/2.1 MB 978.8 kB/s eta 0:00:02\n",
      "   ---------------------- ----------------- 1.2/2.1 MB 996.0 kB/s eta 0:00:01\n",
      "   ----------------------- ---------------- 1.2/2.1 MB 999.6 kB/s eta 0:00:01\n",
      "   ------------------------ --------------- 1.3/2.1 MB 1.0 MB/s eta 0:00:01\n",
      "   ------------------------- -------------- 1.3/2.1 MB 1.0 MB/s eta 0:00:01\n",
      "   -------------------------- ------------- 1.4/2.1 MB 1.0 MB/s eta 0:00:01\n",
      "   -------------------------- ------------- 1.4/2.1 MB 1.0 MB/s eta 0:00:01\n",
      "   -------------------------- ------------- 1.4/2.1 MB 990.5 kB/s eta 0:00:01\n",
      "   --------------------------- ------------ 1.4/2.1 MB 966.0 kB/s eta 0:00:01\n",
      "   ---------------------------- ----------- 1.5/2.1 MB 976.5 kB/s eta 0:00:01\n",
      "   ----------------------------- ---------- 1.5/2.1 MB 976.8 kB/s eta 0:00:01\n",
      "   ------------------------------ --------- 1.6/2.1 MB 980.1 kB/s eta 0:00:01\n",
      "   ------------------------------- -------- 1.6/2.1 MB 973.8 kB/s eta 0:00:01\n",
      "   ------------------------------- -------- 1.7/2.1 MB 980.1 kB/s eta 0:00:01\n",
      "   -------------------------------- ------- 1.7/2.1 MB 971.3 kB/s eta 0:00:01\n",
      "   -------------------------------- ------- 1.7/2.1 MB 965.9 kB/s eta 0:00:01\n",
      "   --------------------------------- ------ 1.8/2.1 MB 952.3 kB/s eta 0:00:01\n",
      "   --------------------------------- ------ 1.8/2.1 MB 934.8 kB/s eta 0:00:01\n",
      "   ---------------------------------- ----- 1.8/2.1 MB 941.0 kB/s eta 0:00:01\n",
      "   ----------------------------------- ---- 1.9/2.1 MB 934.2 kB/s eta 0:00:01\n",
      "   ----------------------------------- ---- 1.9/2.1 MB 927.7 kB/s eta 0:00:01\n",
      "   ------------------------------------ --- 1.9/2.1 MB 914.5 kB/s eta 0:00:01\n",
      "   ------------------------------------ --- 1.9/2.1 MB 910.8 kB/s eta 0:00:01\n",
      "   ------------------------------------- -- 2.0/2.1 MB 902.4 kB/s eta 0:00:01\n",
      "   ------------------------------------- -- 2.0/2.1 MB 892.5 kB/s eta 0:00:01\n",
      "   -------------------------------------- - 2.0/2.1 MB 881.6 kB/s eta 0:00:01\n",
      "   -------------------------------------- - 2.0/2.1 MB 870.9 kB/s eta 0:00:01\n",
      "   ---------------------------------------  2.1/2.1 MB 870.9 kB/s eta 0:00:01\n",
      "   ---------------------------------------  2.1/2.1 MB 864.0 kB/s eta 0:00:01\n",
      "   ---------------------------------------  2.1/2.1 MB 866.7 kB/s eta 0:00:01\n",
      "   ---------------------------------------  2.1/2.1 MB 866.7 kB/s eta 0:00:01\n",
      "   ---------------------------------------  2.1/2.1 MB 866.7 kB/s eta 0:00:01\n",
      "   ---------------------------------------- 2.1/2.1 MB 819.9 kB/s eta 0:00:00\n",
      "Downloading greenlet-3.2.3-cp311-cp311-win_amd64.whl (297 kB)\n",
      "   ---------------------------------------- 0.0/297.0 kB ? eta -:--:--\n",
      "   ---- ---------------------------------- 30.7/297.0 kB 660.6 kB/s eta 0:00:01\n",
      "   -------- ------------------------------ 61.4/297.0 kB 656.4 kB/s eta 0:00:01\n",
      "   -------------- ----------------------- 112.6/297.0 kB 819.2 kB/s eta 0:00:01\n",
      "   ---------------------- --------------- 174.1/297.0 kB 952.6 kB/s eta 0:00:01\n",
      "   ------------------------------- -------- 235.5/297.0 kB 1.0 MB/s eta 0:00:01\n",
      "   ---------------------------------------  297.0/297.0 kB 1.1 MB/s eta 0:00:01\n",
      "   ---------------------------------------  297.0/297.0 kB 1.1 MB/s eta 0:00:01\n",
      "   -------------------------------------- 297.0/297.0 kB 798.8 kB/s eta 0:00:00\n",
      "Installing collected packages: greenlet, sqlalchemy\n",
      "Successfully installed greenlet-3.2.3 sqlalchemy-2.0.41\n",
      "Note: you may need to restart the kernel to use updated packages.\n"
     ]
    },
    {
     "name": "stderr",
     "output_type": "stream",
     "text": [
      "\n",
      "[notice] A new release of pip is available: 23.3.1 -> 25.1.1\n",
      "[notice] To update, run: python.exe -m pip install --upgrade pip\n"
     ]
    }
   ],
   "source": [
    "pip install sqlalchemy"
   ]
  },
  {
   "cell_type": "code",
   "execution_count": 66,
   "id": "bcff3e92-b215-4269-bc59-77d4ebad2fd1",
   "metadata": {},
   "outputs": [],
   "source": [
    "import pymysql\n",
    "from sqlalchemy import create_engine"
   ]
  },
  {
   "cell_type": "code",
   "execution_count": 67,
   "id": "58ef1613-f3a2-45df-bb36-97df594d5a08",
   "metadata": {},
   "outputs": [
    {
     "name": "stdout",
     "output_type": "stream",
     "text": [
      "connected successfully\n"
     ]
    }
   ],
   "source": [
    "my_engine=create_engine(\"mysql+pymysql://root@localhost:3306/youtube\")\n",
    "try:\n",
    "    my_engine\n",
    "    print(\"connected successfully\")\n",
    "except:\n",
    "    print(\"can't connect\")"
   ]
  },
  {
   "cell_type": "code",
   "execution_count": 68,
   "id": "ee4b4fd7-74ec-4d24-91b9-87e154c0eba3",
   "metadata": {},
   "outputs": [
    {
     "name": "stderr",
     "output_type": "stream",
     "text": [
      "C:\\Users\\dell\\AppData\\Local\\Temp\\ipykernel_16388\\1594808472.py:1: UserWarning: The provided table name 'Youtube_trending_videos' is not found exactly as such in the database after writing the table, possibly due to case sensitivity issues. Consider using lower case table names.\n",
      "  df.to_sql(name=\"Youtube_trending_videos\",con=my_engine,if_exists=\"append\",index=False)\n"
     ]
    },
    {
     "data": {
      "text/plain": [
       "5372"
      ]
     },
     "execution_count": 68,
     "metadata": {},
     "output_type": "execute_result"
    }
   ],
   "source": [
    "df.to_sql(name=\"Youtube_trending_videos\",con=my_engine,if_exists=\"append\",index=False)"
   ]
  },
  {
   "cell_type": "code",
   "execution_count": 69,
   "id": "fac608b7-82d0-4b33-97be-6fe70047219a",
   "metadata": {},
   "outputs": [
    {
     "data": {
      "text/plain": [
       "1961"
      ]
     },
     "execution_count": 69,
     "metadata": {},
     "output_type": "execute_result"
    }
   ],
   "source": [
    "data.to_sql(name=\"trending_videos\",con=my_engine,if_exists=\"append\",index=False)"
   ]
  },
  {
   "cell_type": "code",
   "execution_count": null,
   "id": "56948017-9216-4b2e-8536-5673014142d1",
   "metadata": {},
   "outputs": [],
   "source": []
  }
 ],
 "metadata": {
  "kernelspec": {
   "display_name": "Python 3 (ipykernel)",
   "language": "python",
   "name": "python3"
  },
  "language_info": {
   "codemirror_mode": {
    "name": "ipython",
    "version": 3
   },
   "file_extension": ".py",
   "mimetype": "text/x-python",
   "name": "python",
   "nbconvert_exporter": "python",
   "pygments_lexer": "ipython3",
   "version": "3.11.5"
  },
  "widgets": {
   "application/vnd.jupyter.widget-state+json": {
    "state": {},
    "version_major": 2,
    "version_minor": 0
   }
  }
 },
 "nbformat": 4,
 "nbformat_minor": 5
}
